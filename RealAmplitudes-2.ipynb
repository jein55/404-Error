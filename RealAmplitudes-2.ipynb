{
 "cells": [
  {
   "cell_type": "code",
   "execution_count": 3,
   "id": "9db6198e",
   "metadata": {},
   "outputs": [],
   "source": [
    "from qiskit_nature.drivers import UnitsType, Molecule\n",
    "from qiskit_nature.drivers.second_quantization import (\n",
    "    ElectronicStructureDriverType,\n",
    "    ElectronicStructureMoleculeDriver,\n",
    ")\n",
    "from qiskit_nature.problems.second_quantization.electronic import ElectronicStructureProblem\n",
    "from qiskit_nature.converters.second_quantization import QubitConverter\n",
    "from qiskit_nature.mappers.second_quantization import ParityMapper\n",
    "from qiskit_nature.properties.second_quantization.electronic import ParticleNumber\n",
    "from qiskit_nature.transformers.second_quantization.electronic import ActiveSpaceTransformer"
   ]
  },
  {
   "cell_type": "code",
   "execution_count": 4,
   "id": "4846ac4d",
   "metadata": {},
   "outputs": [],
   "source": [
    "bond_distance = 2.5  # in Angstrom\n",
    "\n",
    "# define molecule\n",
    "molecule = Molecule(\n",
    "    geometry=[[\"Li\", [0.0, 0.0, 0.0]], [\"H\", [0.0, 0.0, bond_distance]]], charge=0, multiplicity=1\n",
    ")\n",
    "\n",
    "\n",
    "# specify driver\n",
    "driver = ElectronicStructureMoleculeDriver(\n",
    "    molecule, basis=\"sto3g\", driver_type=ElectronicStructureDriverType.PYSCF\n",
    ")\n",
    "properties = driver.run()\n",
    "\n",
    "particle_number = properties.get_property(ParticleNumber)\n",
    "\n",
    "# specify active space transformation\n",
    "active_space_trafo = ActiveSpaceTransformer(\n",
    "    num_electrons=particle_number.num_particles, num_molecular_orbitals=3\n",
    ")\n",
    "\n",
    "# define electronic structure problem\n",
    "problem = ElectronicStructureProblem(driver, transformers=[active_space_trafo])\n",
    "\n",
    "# construct qubit converter (parity mapping + 2-qubit reduction)\n",
    "qubit_converter = QubitConverter(ParityMapper(), two_qubit_reduction=True)"
   ]
  },
  {
   "cell_type": "code",
   "execution_count": 5,
   "id": "5722be09",
   "metadata": {},
   "outputs": [
    {
     "name": "stderr",
     "output_type": "stream",
     "text": [
      "/home/jein55/anaconda3/lib/python3.9/site-packages/qiskit_nature/problems/second_quantization/electronic/electronic_structure_problem.py:93: ListAuxOpsDeprecationWarning: List-based `aux_operators` are deprecated as of version 0.3.0 and support for them will be removed no sooner than 3 months after the release. Instead, use dict-based `aux_operators`. You can switch to the dict-based interface immediately, by setting `qiskit_nature.settings.dict_aux_operators` to `True`.\n",
      "  second_quantized_ops = self._grouped_property_transformed.second_q_ops()\n"
     ]
    }
   ],
   "source": [
    "from qiskit.algorithms import NumPyMinimumEigensolver\n",
    "from qiskit_nature.algorithms.ground_state_solvers import GroundStateEigensolver\n",
    "\n",
    "np_solver = NumPyMinimumEigensolver()\n",
    "np_groundstate_solver = GroundStateEigensolver(qubit_converter, np_solver)\n",
    "\n",
    "np_result = np_groundstate_solver.solve(problem)"
   ]
  },
  {
   "cell_type": "code",
   "execution_count": 6,
   "id": "d6cca29e",
   "metadata": {},
   "outputs": [
    {
     "name": "stdout",
     "output_type": "stream",
     "text": [
      "Energy: -7.773617988868003\n"
     ]
    }
   ],
   "source": [
    "import numpy as np\n",
    "\n",
    "target_energy = np.real(np_result.eigenenergies + np_result.nuclear_repulsion_energy)[0]\n",
    "print(\"Energy:\", target_energy)"
   ]
  },
  {
   "cell_type": "code",
   "execution_count": 7,
   "id": "1770373b",
   "metadata": {},
   "outputs": [
    {
     "data": {
      "image/png": "[encoded data removed]",
      "text/plain": [
       "<Figure size 568.197x264.88 with 1 Axes>"
      ]
     },
     "execution_count": 7,
     "metadata": {},
     "output_type": "execute_result"
    }
   ],
   "source": [
    "from qiskit.circuit.library import EfficientSU2\n",
    "from qiskit.circuit.library import TwoLocal\n",
    "from qiskit.circuit.library import RealAmplitudes\n",
    "\n",
    "\n",
    "#ansatz = EfficientSU2(4, su2_gates=['ry','cx', 'cz'], entanglement='circular', reps=1)\n",
    "ansatz = RealAmplitudes(4, reps=1, entanglement='circular', insert_barriers=True)\n",
    "ansatz.decompose().draw(\"mpl\", style=\"iqx\")"
   ]
  },
  {
   "cell_type": "code",
   "execution_count": 8,
   "id": "2937b22a",
   "metadata": {},
   "outputs": [],
   "source": [
    "from qiskit.algorithms.optimizers import SPSA\n",
    "\n",
    "optimizer = SPSA(maxiter=100)\n",
    "\n",
    "np.random.seed(5)  # fix seed for reproducibility\n",
    "initial_point = np.random.random(ansatz.num_parameters)"
   ]
  },
  {
   "cell_type": "code",
   "execution_count": 9,
   "id": "d367462d",
   "metadata": {},
   "outputs": [],
   "source": [
    "from qiskit.providers.basicaer import QasmSimulatorPy  # local simulator\n",
    "from qiskit.algorithms import VQE\n",
    "\n",
    "local_vqe = VQE(\n",
    "    ansatz=ansatz,\n",
    "    optimizer=optimizer,\n",
    "    initial_point=initial_point,\n",
    "    quantum_instance=QasmSimulatorPy(),\n",
    ")\n",
    "\n",
    "local_vqe_groundstate_solver = GroundStateEigensolver(qubit_converter, local_vqe)\n",
    "\n",
    "local_vqe_result = local_vqe_groundstate_solver.solve(problem)"
   ]
  },
  {
   "cell_type": "code",
   "execution_count": 10,
   "id": "63efe7c1",
   "metadata": {},
   "outputs": [
    {
     "name": "stdout",
     "output_type": "stream",
     "text": [
      "Energy: -6.5199044455861275\n"
     ]
    }
   ],
   "source": [
    "print(\n",
    "    \"Energy:\",\n",
    "    np.real(local_vqe_result.eigenenergies + local_vqe_result.nuclear_repulsion_energy)[0],\n",
    ")"
   ]
  },
  {
   "cell_type": "code",
   "execution_count": null,
   "id": "559ab8d7",
   "metadata": {},
   "outputs": [],
   "source": []
  }
 ],
 "metadata": {
  "kernelspec": {
   "display_name": "Python 3 (ipykernel)",
   "language": "python",
   "name": "python3"
  },
  "language_info": {
   "codemirror_mode": {
    "name": "ipython",
    "version": 3
   },
   "file_extension": ".py",
   "mimetype": "text/x-python",
   "name": "python",
   "nbconvert_exporter": "python",
   "pygments_lexer": "ipython3",
   "version": "3.9.12"
  }
 },
 "nbformat": 4,
 "nbformat_minor": 5
}
