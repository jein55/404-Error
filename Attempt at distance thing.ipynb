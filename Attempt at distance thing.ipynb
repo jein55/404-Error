{
 "cells": [
  {
   "cell_type": "code",
   "execution_count": 36,
   "id": "5d882587",
   "metadata": {},
   "outputs": [],
   "source": [
    "def get_qubit_op(dist):\n",
    "    driver = PySCFDriver(atom=\"Li .0 .0 .0; H .0 .0 \" + str(dist), \n",
    "                         charge=0, spin=0, basis='sto3g')\n",
    "    molecule = driver.run()\n",
    "    freeze_list = [0]\n",
    "    remove_list = [-3, -2]\n",
    "    repulsion_energy = molecule.nuclear_repulsion_energy\n",
    "    num_particles = molecule.num_alpha + molecule.num_beta\n",
    "    num_spin_orbitals = molecule.num_orbitals * 2\n",
    "    remove_list = [x % molecule.num_orbitals for x in remove_list]\n",
    "    freeze_list = [x % molecule.num_orbitals for x in freeze_list]\n",
    "    remove_list = [x - len(freeze_list) for x in remove_list]\n",
    "    remove_list += [x + molecule.num_orbitals - len(freeze_list)  for x in remove_list]\n",
    "    freeze_list += [x + molecule.num_orbitals for x in freeze_list]\n",
    "    ferOp = FermionicOperator(h1=molecule.one_body_integrals, h2=molecule.two_body_integrals)\n",
    "    ferOp, energy_shift = ferOp.fermion_mode_freezing(freeze_list)\n",
    "    num_spin_orbitals -= len(freeze_list)\n",
    "    num_particles -= len(freeze_list)\n",
    "    ferOp = ferOp.fermion_mode_elimination(remove_list)\n",
    "    num_spin_orbitals -= len(remove_list)\n",
    "    qubitOp = ferOp.mapping(map_type='parity', threshold=0.00000001)\n",
    "    qubitOp = Z2Symmetries.two_qubit_reduction(qubitOp, num_particles)\n",
    "    shift = energy_shift + repulsion_energy\n",
    "    return qubitOp, num_particles, num_spin_orbitals, shift"
   ]
  },
  {
   "cell_type": "code",
   "execution_count": 37,
   "id": "95cd4831",
   "metadata": {},
   "outputs": [
    {
     "ename": "AttributeError",
     "evalue": "'ElectronicStructureDriverResult' object has no attribute 'nuclear_repulsion_energy'",
     "output_type": "error",
     "traceback": [
      "\u001b[0;31m---------------------------------------------------------------------------\u001b[0m",
      "\u001b[0;31mAttributeError\u001b[0m                            Traceback (most recent call last)",
      "Input \u001b[0;32mIn [37]\u001b[0m, in \u001b[0;36m<cell line: 8>\u001b[0;34m()\u001b[0m\n\u001b[1;32m      7\u001b[0m optimizer \u001b[38;5;241m=\u001b[39m SLSQP(maxiter\u001b[38;5;241m=\u001b[39m\u001b[38;5;241m5\u001b[39m)\n\u001b[1;32m      8\u001b[0m \u001b[38;5;28;01mfor\u001b[39;00m dist \u001b[38;5;129;01min\u001b[39;00m distances:\n\u001b[0;32m----> 9\u001b[0m     qubitOp, num_particles, num_spin_orbitals, shift \u001b[38;5;241m=\u001b[39m \u001b[43mget_qubit_op\u001b[49m\u001b[43m(\u001b[49m\u001b[43mdist\u001b[49m\u001b[43m)\u001b[49m\n\u001b[1;32m     10\u001b[0m     result \u001b[38;5;241m=\u001b[39m NumPyEigensolver(qubitOp)\u001b[38;5;241m.\u001b[39mrun()\n\u001b[1;32m     11\u001b[0m     exact_energies\u001b[38;5;241m.\u001b[39mappend(np\u001b[38;5;241m.\u001b[39mreal(result\u001b[38;5;241m.\u001b[39meigenvalues) \u001b[38;5;241m+\u001b[39m shift)\n",
      "Input \u001b[0;32mIn [36]\u001b[0m, in \u001b[0;36mget_qubit_op\u001b[0;34m(dist)\u001b[0m\n\u001b[1;32m      5\u001b[0m freeze_list \u001b[38;5;241m=\u001b[39m [\u001b[38;5;241m0\u001b[39m]\n\u001b[1;32m      6\u001b[0m remove_list \u001b[38;5;241m=\u001b[39m [\u001b[38;5;241m-\u001b[39m\u001b[38;5;241m3\u001b[39m, \u001b[38;5;241m-\u001b[39m\u001b[38;5;241m2\u001b[39m]\n\u001b[0;32m----> 7\u001b[0m repulsion_energy \u001b[38;5;241m=\u001b[39m \u001b[43mmolecule\u001b[49m\u001b[38;5;241;43m.\u001b[39;49m\u001b[43mnuclear_repulsion_energy\u001b[49m\n\u001b[1;32m      8\u001b[0m num_particles \u001b[38;5;241m=\u001b[39m molecule\u001b[38;5;241m.\u001b[39mnum_alpha \u001b[38;5;241m+\u001b[39m molecule\u001b[38;5;241m.\u001b[39mnum_beta\n\u001b[1;32m      9\u001b[0m num_spin_orbitals \u001b[38;5;241m=\u001b[39m molecule\u001b[38;5;241m.\u001b[39mnum_orbitals \u001b[38;5;241m*\u001b[39m \u001b[38;5;241m2\u001b[39m\n",
      "\u001b[0;31mAttributeError\u001b[0m: 'ElectronicStructureDriverResult' object has no attribute 'nuclear_repulsion_energy'"
     ]
    }
   ],
   "source": [
    "from qiskit import BasicAer\n",
    "\n",
    "backend = BasicAer.get_backend(\"statevector_simulator\")\n",
    "distances = np.arange(0.5, 4.0, 0.1)\n",
    "exact_energies = []\n",
    "vqe_energies = []\n",
    "optimizer = SLSQP(maxiter=5)\n",
    "for dist in distances:\n",
    "    qubitOp, num_particles, num_spin_orbitals, shift = get_qubit_op(dist)\n",
    "    result = NumPyEigensolver(qubitOp).run()\n",
    "    exact_energies.append(np.real(result.eigenvalues) + shift)\n",
    "    initial_state = HartreeFock(\n",
    "        num_spin_orbitals,\n",
    "        num_particles,\n",
    "        qubit_mapping='parity'\n",
    "    ) \n",
    "    var_form = UCCSD(\n",
    "        num_orbitals=num_spin_orbitals,\n",
    "        num_particles=num_particles,\n",
    "        initial_state=initial_state,\n",
    "        qubit_mapping='parity'\n",
    "    )\n",
    "    vqe = VQE(qubitOp, var_form, optimizer)\n",
    "    vqe_result = np.real(vqe.run(backend)['eigenvalue'] + shift)\n",
    "    vqe_energies.append(vqe_result)\n",
    "    print(\"Interatomic Distance:\", np.round(dist, 2), \"VQE Result:\", vqe_result, \"Exact Energy:\", exact_energies[-1])\n",
    "    \n",
    "print(\"All energies have been calculated\")"
   ]
  },
  {
   "cell_type": "code",
   "execution_count": 6,
   "id": "a6e1397d",
   "metadata": {},
   "outputs": [
    {
     "name": "stdout",
     "output_type": "stream",
     "text": [
      "Requirement already satisfied: qiskit-aqua in /home/jein55/anaconda3/lib/python3.9/site-packages (0.9.5)\n",
      "Requirement already satisfied: scikit-learn>=0.20.0 in /home/jein55/anaconda3/lib/python3.9/site-packages (from qiskit-aqua) (1.0.2)\n",
      "Requirement already satisfied: docplex>=2.21.207 in /home/jein55/anaconda3/lib/python3.9/site-packages (from qiskit-aqua) (2.23.222)\n",
      "Requirement already satisfied: sympy>=1.3 in /home/jein55/anaconda3/lib/python3.9/site-packages (from qiskit-aqua) (1.10.1)\n",
      "Requirement already satisfied: psutil>=5 in /home/jein55/anaconda3/lib/python3.9/site-packages (from qiskit-aqua) (5.8.0)\n",
      "Requirement already satisfied: dlx<=1.0.4 in /home/jein55/anaconda3/lib/python3.9/site-packages (from qiskit-aqua) (1.0.4)\n",
      "Requirement already satisfied: pandas in /home/jein55/anaconda3/lib/python3.9/site-packages (from qiskit-aqua) (1.4.2)\n",
      "Requirement already satisfied: yfinance>=0.1.62 in /home/jein55/anaconda3/lib/python3.9/site-packages (from qiskit-aqua) (0.1.74)\n",
      "Requirement already satisfied: quandl in /home/jein55/anaconda3/lib/python3.9/site-packages (from qiskit-aqua) (3.7.0)\n",
      "Requirement already satisfied: retworkx>=0.8.0 in /home/jein55/anaconda3/lib/python3.9/site-packages (from qiskit-aqua) (0.11.0)\n",
      "Requirement already satisfied: h5py<3.3.0 in /home/jein55/anaconda3/lib/python3.9/site-packages (from qiskit-aqua) (3.2.1)\n",
      "Requirement already satisfied: qiskit-ignis>=0.6.0 in /home/jein55/anaconda3/lib/python3.9/site-packages (from qiskit-aqua) (0.7.1)\n",
      "Requirement already satisfied: numpy>=1.17 in /home/jein55/anaconda3/lib/python3.9/site-packages (from qiskit-aqua) (1.21.0)\n",
      "Requirement already satisfied: setuptools>=40.1.0 in /home/jein55/anaconda3/lib/python3.9/site-packages (from qiskit-aqua) (61.2.0)\n",
      "Requirement already satisfied: qiskit-terra>=0.18.0 in /home/jein55/anaconda3/lib/python3.9/site-packages (from qiskit-aqua) (0.21.0)\n",
      "Requirement already satisfied: scipy>=1.4 in /home/jein55/anaconda3/lib/python3.9/site-packages (from qiskit-aqua) (1.7.3)\n",
      "Requirement already satisfied: fastdtw<=0.3.4 in /home/jein55/anaconda3/lib/python3.9/site-packages (from qiskit-aqua) (0.3.4)\n",
      "Requirement already satisfied: six in /home/jein55/anaconda3/lib/python3.9/site-packages (from docplex>=2.21.207->qiskit-aqua) (1.16.0)\n",
      "Requirement already satisfied: dill>=0.3 in /home/jein55/anaconda3/lib/python3.9/site-packages (from qiskit-terra>=0.18.0->qiskit-aqua) (0.3.5.1)\n",
      "Requirement already satisfied: ply>=3.10 in /home/jein55/anaconda3/lib/python3.9/site-packages (from qiskit-terra>=0.18.0->qiskit-aqua) (3.11)\n",
      "Requirement already satisfied: python-dateutil>=2.8.0 in /home/jein55/anaconda3/lib/python3.9/site-packages (from qiskit-terra>=0.18.0->qiskit-aqua) (2.8.2)\n",
      "Requirement already satisfied: symengine>=0.9 in /home/jein55/anaconda3/lib/python3.9/site-packages (from qiskit-terra>=0.18.0->qiskit-aqua) (0.9.2)\n",
      "Requirement already satisfied: tweedledum<2.0,>=1.1 in /home/jein55/anaconda3/lib/python3.9/site-packages (from qiskit-terra>=0.18.0->qiskit-aqua) (1.1.1)\n",
      "Requirement already satisfied: stevedore>=3.0.0 in /home/jein55/anaconda3/lib/python3.9/site-packages (from qiskit-terra>=0.18.0->qiskit-aqua) (4.0.0)\n",
      "Requirement already satisfied: joblib>=0.11 in /home/jein55/anaconda3/lib/python3.9/site-packages (from scikit-learn>=0.20.0->qiskit-aqua) (1.1.0)\n",
      "Requirement already satisfied: threadpoolctl>=2.0.0 in /home/jein55/anaconda3/lib/python3.9/site-packages (from scikit-learn>=0.20.0->qiskit-aqua) (2.2.0)\n",
      "Requirement already satisfied: pbr!=2.1.0,>=2.0.0 in /home/jein55/anaconda3/lib/python3.9/site-packages (from stevedore>=3.0.0->qiskit-terra>=0.18.0->qiskit-aqua) (5.10.0)\n",
      "Requirement already satisfied: mpmath>=0.19 in /home/jein55/anaconda3/lib/python3.9/site-packages (from sympy>=1.3->qiskit-aqua) (1.2.1)\n",
      "Requirement already satisfied: multitasking>=0.0.7 in /home/jein55/anaconda3/lib/python3.9/site-packages (from yfinance>=0.1.62->qiskit-aqua) (0.0.11)\n",
      "Requirement already satisfied: requests>=2.26 in /home/jein55/anaconda3/lib/python3.9/site-packages (from yfinance>=0.1.62->qiskit-aqua) (2.27.1)\n",
      "Requirement already satisfied: lxml>=4.5.1 in /home/jein55/anaconda3/lib/python3.9/site-packages (from yfinance>=0.1.62->qiskit-aqua) (4.8.0)\n",
      "Requirement already satisfied: pytz>=2020.1 in /home/jein55/anaconda3/lib/python3.9/site-packages (from pandas->qiskit-aqua) (2021.3)\n",
      "Requirement already satisfied: urllib3<1.27,>=1.21.1 in /home/jein55/anaconda3/lib/python3.9/site-packages (from requests>=2.26->yfinance>=0.1.62->qiskit-aqua) (1.26.9)\n",
      "Requirement already satisfied: charset-normalizer~=2.0.0 in /home/jein55/anaconda3/lib/python3.9/site-packages (from requests>=2.26->yfinance>=0.1.62->qiskit-aqua) (2.0.4)\n",
      "Requirement already satisfied: certifi>=2017.4.17 in /home/jein55/anaconda3/lib/python3.9/site-packages (from requests>=2.26->yfinance>=0.1.62->qiskit-aqua) (2021.10.8)\n",
      "Requirement already satisfied: idna<4,>=2.5 in /home/jein55/anaconda3/lib/python3.9/site-packages (from requests>=2.26->yfinance>=0.1.62->qiskit-aqua) (3.3)\n",
      "Requirement already satisfied: inflection>=0.3.1 in /home/jein55/anaconda3/lib/python3.9/site-packages (from quandl->qiskit-aqua) (0.5.1)\n",
      "Requirement already satisfied: more-itertools in /home/jein55/anaconda3/lib/python3.9/site-packages (from quandl->qiskit-aqua) (8.14.0)\n",
      "Note: you may need to restart the kernel to use updated packages.\n"
     ]
    }
   ],
   "source": [
    "pip install qiskit-aqua"
   ]
  },
  {
   "cell_type": "code",
   "execution_count": 28,
   "id": "1ef0bccb",
   "metadata": {},
   "outputs": [],
   "source": [
    "from qiskit.algorithms import VQE, NumPyEigensolver\n",
    "import matplotlib.pyplot as plt\n",
    "import numpy as np\n",
    "from qiskit_nature.circuit.library import UCCSD\n",
    "from qiskit_nature.circuit.library import HartreeFock\n",
    "from qiskit.circuit.library import EfficientSU2\n",
    "from qiskit.algorithms.optimizers import COBYLA, SPSA, SLSQP\n",
    "from qiskit.opflow import Z2Symmetries\n",
    "from qiskit import IBMQ, BasicAer, Aer\n",
    "from qiskit_nature.drivers.second_quantization import PySCFDriver\n",
    "from qiskit_nature.converters.second_quantization import QubitConverter\n",
    "from qiskit.utils import QuantumInstance\n",
    "from qiskit.ignis.mitigation.measurement import CompleteMeasFitter\n",
    "from qiskit.providers.aer.noise import NoiseModel"
   ]
  },
  {
   "cell_type": "code",
   "execution_count": null,
   "id": "47fa41eb",
   "metadata": {},
   "outputs": [],
   "source": []
  }
 ],
 "metadata": {
  "kernelspec": {
   "display_name": "Python 3 (ipykernel)",
   "language": "python",
   "name": "python3"
  },
  "language_info": {
   "codemirror_mode": {
    "name": "ipython",
    "version": 3
   },
   "file_extension": ".py",
   "mimetype": "text/x-python",
   "name": "python",
   "nbconvert_exporter": "python",
   "pygments_lexer": "ipython3",
   "version": "3.9.12"
  }
 },
 "nbformat": 4,
 "nbformat_minor": 5
}
